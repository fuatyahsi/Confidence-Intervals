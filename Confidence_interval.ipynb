{
 "cells": [
  {
   "cell_type": "code",
   "execution_count": 1,
   "id": "ff865cae-ef8e-4cda-82e3-4397e366f879",
   "metadata": {},
   "outputs": [],
   "source": [
    "import numpy as np\n",
    "import pandas as pd\n",
    "from scipy import stats\n",
    "import matplotlib.pyplot as plt\n",
    "import seaborn as sns"
   ]
  },
  {
   "cell_type": "markdown",
   "id": "95d0bd6f-f2b1-4e93-bb05-06a250930acf",
   "metadata": {
    "tags": []
   },
   "source": [
    "\n",
    "## Suppose scores on exams in statistics are normally distributed with an unknown population mean and a population standard deviation of 3 points. A random sample of 36 scores is taken and gives a sample mean (sample  mean score) of 68. Find a confidence interval estimate for the population mean exam score (the mean score on all exams).\n",
    "## Find a 90% confidence interval for the true (population) mean of statistics exam scores. \n"
   ]
  },
  {
   "cell_type": "code",
   "execution_count": 2,
   "id": "d20e675d-ed0a-4410-bdd4-f4226f2a209a",
   "metadata": {},
   "outputs": [],
   "source": [
    "n= 36\n",
    "sigma = 3\n",
    "x_bar = 68\n",
    "confidence = 0.90\n",
    "sem=sigma/np.sqrt(n)"
   ]
  },
  {
   "cell_type": "code",
   "execution_count": 4,
   "id": "de308182-4346-4687-b70a-7d1dde6fc023",
   "metadata": {},
   "outputs": [
    {
     "name": "stdout",
     "output_type": "stream",
     "text": [
      "The population mean is between 67.17757318652427 and 68.82242681347573 with %90 probability\n"
     ]
    }
   ],
   "source": [
    "print(\"The population mean is between\",stats.norm.interval(confidence = 0.90,loc=68,scale = sem)[0],\"and\",stats.norm.interval(confidence = 0.90,loc=68,scale = sem)[1],\"with %90 probability\")"
   ]
  },
  {
   "cell_type": "markdown",
   "id": "74992e67-6d60-4a97-90c7-7c0c5c131c49",
   "metadata": {},
   "source": [
    " \n",
    "## What is the normal body temperature for healthy humans? A random sample of 130 healthy human body temperatures provided by Allen Shoemaker7 yielded 98.25 degrees and standard deviation 0.73 degrees. \n",
    "## Give a 99% confidence interval for the average body temperature of healthy people.\n"
   ]
  },
  {
   "cell_type": "code",
   "execution_count": 5,
   "id": "202f314c-88cd-420e-a9cc-7e86721fd87b",
   "metadata": {},
   "outputs": [],
   "source": [
    "x_bar = 98.25\n",
    "n = 130\n",
    "confidence = 0.99\n",
    "s = 0.73\n",
    "sem = s/np.sqrt(n-1)\n"
   ]
  },
  {
   "cell_type": "code",
   "execution_count": 6,
   "id": "bdef4350-a282-41ff-84d9-0a5ec603f52b",
   "metadata": {},
   "outputs": [
    {
     "name": "stdout",
     "output_type": "stream",
     "text": [
      "Mean of Normal body temperature for healthy humans mean is between 98.08195983101292 and 98.41804016898708 degrees with %99 probability\n"
     ]
    }
   ],
   "source": [
    "print(\"Mean of Normal body temperature for healthy humans mean is between\",stats.t.interval(confidence = 0.99, loc=98.25, df = n-1,scale = sem)[0],\"and\",stats.t.interval(df = n-1,confidence = 0.99, loc=98.25,scale = sem)[1],\"degrees with %99 probability\")"
   ]
  },
  {
   "cell_type": "code",
   "execution_count": 7,
   "id": "3503ae10-96ac-435b-873d-3a3f50068d07",
   "metadata": {},
   "outputs": [
    {
     "name": "stdout",
     "output_type": "stream",
     "text": [
      "Mean of Normal body temperature for healthy humans mean is between 98.08444393912598 and 98.41555606087402 degress with %99 probability (can be used t dist. couse n >30)\n"
     ]
    }
   ],
   "source": [
    "print(\"Mean of Normal body temperature for healthy humans mean is between\",stats.norm.interval(confidence = 0.99, loc=98.25,scale = sem)[0],\"and\",stats.norm.interval(confidence = 0.99, loc=98.25,scale = sem)[1],\"degress with %99 probability (can be used t dist. couse n >30)\")"
   ]
  },
  {
   "cell_type": "markdown",
   "id": "5f8a1d17-cb84-4003-abeb-1a302cd8456a",
   "metadata": {},
   "source": [
    "\n",
    "## The administrators for a hospital wished to estimate the average number of days required for inpatient treatment of patients between the ages of 25 and 34. A random sample of 500 hospital patients between these ages produced a mean and standard deviation equal to 5.4 and 3.1 days, respectively.\n",
    "## Construct a 95% confidence interval for the mean length of stay for the population of patients from which the sample was drawn.\n"
   ]
  },
  {
   "cell_type": "code",
   "execution_count": 8,
   "id": "48c4bfee-bac4-4a1b-a9a7-72aa72673f44",
   "metadata": {},
   "outputs": [],
   "source": [
    "n = 500\n",
    "xbar = 5.4\n",
    "s = 3.1\n",
    "sem = s/np.sqrt(n)"
   ]
  },
  {
   "cell_type": "code",
   "execution_count": 9,
   "id": "d4f48173-cfed-4531-817e-653e479c1594",
   "metadata": {},
   "outputs": [
    {
     "name": "stdout",
     "output_type": "stream",
     "text": [
      "Mean of lenght of stay is between 5.127617354510309 and 5.672382645489692 days with %95 probability\n"
     ]
    }
   ],
   "source": [
    "print(\"Mean of lenght of stay is between\",stats.t.interval(confidence = 0.95, loc=xbar, df = n-1,scale = sem)[0],\"and\",stats.t.interval(df = n-1,confidence = 0.95, loc=xbar,scale = sem)[1],\"days with %95 probability\")"
   ]
  },
  {
   "cell_type": "markdown",
   "id": "97b5bc4e-1430-41e4-98ad-579c8ce18b3c",
   "metadata": {},
   "source": [
    "## Using the Empirical Rule"
   ]
  },
  {
   "cell_type": "code",
   "execution_count": 24,
   "id": "c0add50a-7fbb-4814-8c5c-44be750f8ce1",
   "metadata": {},
   "outputs": [],
   "source": [
    "df = pd.DataFrame(data = {\"scores\" :np.random.normal(loc=5.4,scale = 3.1/np.sqrt(500), size = 500)})"
   ]
  },
  {
   "cell_type": "code",
   "execution_count": 25,
   "id": "8033e8ac-7ea0-42e3-9040-2a5d14b05e4c",
   "metadata": {},
   "outputs": [
    {
     "data": {
      "text/html": [
       "<div>\n",
       "<style scoped>\n",
       "    .dataframe tbody tr th:only-of-type {\n",
       "        vertical-align: middle;\n",
       "    }\n",
       "\n",
       "    .dataframe tbody tr th {\n",
       "        vertical-align: top;\n",
       "    }\n",
       "\n",
       "    .dataframe thead th {\n",
       "        text-align: right;\n",
       "    }\n",
       "</style>\n",
       "<table border=\"1\" class=\"dataframe\">\n",
       "  <thead>\n",
       "    <tr style=\"text-align: right;\">\n",
       "      <th></th>\n",
       "      <th>count</th>\n",
       "      <th>mean</th>\n",
       "      <th>std</th>\n",
       "      <th>min</th>\n",
       "      <th>25%</th>\n",
       "      <th>50%</th>\n",
       "      <th>75%</th>\n",
       "      <th>max</th>\n",
       "    </tr>\n",
       "  </thead>\n",
       "  <tbody>\n",
       "    <tr>\n",
       "      <th>scores</th>\n",
       "      <td>500.0</td>\n",
       "      <td>5.400304</td>\n",
       "      <td>0.136388</td>\n",
       "      <td>4.987927</td>\n",
       "      <td>5.314213</td>\n",
       "      <td>5.400147</td>\n",
       "      <td>5.498203</td>\n",
       "      <td>5.761114</td>\n",
       "    </tr>\n",
       "  </tbody>\n",
       "</table>\n",
       "</div>"
      ],
      "text/plain": [
       "        count      mean       std       min       25%       50%       75%  \\\n",
       "scores  500.0  5.400304  0.136388  4.987927  5.314213  5.400147  5.498203   \n",
       "\n",
       "             max  \n",
       "scores  5.761114  "
      ]
     },
     "execution_count": 25,
     "metadata": {},
     "output_type": "execute_result"
    }
   ],
   "source": [
    "df.describe().T"
   ]
  },
  {
   "cell_type": "code",
   "execution_count": 27,
   "id": "8c5a0ee2-f235-4ae8-ad1a-f3e115998508",
   "metadata": {},
   "outputs": [
    {
     "name": "stdout",
     "output_type": "stream",
     "text": [
      "Mean of lenght of stay is between 5.127223434348598 and 5.672776565651403 days with %95 probability\n"
     ]
    }
   ],
   "source": [
    "print(\"Mean of lenght of stay is between\",5.4-df.scores.std()*2,\"and\",df.scores.std()*2+5.4,\"days with %95 probability\")"
   ]
  },
  {
   "cell_type": "code",
   "execution_count": 37,
   "id": "a2a65ca0-4930-44a6-a095-4292d3463451",
   "metadata": {},
   "outputs": [
    {
     "data": {
      "image/png": "[encoded data removed]",
      "text/plain": [
       "<Figure size 432x288 with 1 Axes>"
      ]
     },
     "metadata": {
      "needs_background": "light"
     },
     "output_type": "display_data"
    }
   ],
   "source": [
    "sns.histplot(data = df,kde=True);"
   ]
  },
  {
   "cell_type": "code",
   "execution_count": null,
   "id": "aaba4f8c-6b25-4089-b9ac-3e8c1beef492",
   "metadata": {},
   "outputs": [],
   "source": []
  }
 ],
 "metadata": {
  "kernelspec": {
   "display_name": "Python 3 (ipykernel)",
   "language": "python",
   "name": "python3"
  },
  "language_info": {
   "codemirror_mode": {
    "name": "ipython",
    "version": 3
   },
   "file_extension": ".py",
   "mimetype": "text/x-python",
   "name": "python",
   "nbconvert_exporter": "python",
   "pygments_lexer": "ipython3",
   "version": "3.10.5"
  }
 },
 "nbformat": 4,
 "nbformat_minor": 5
}
